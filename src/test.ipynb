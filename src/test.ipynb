{
 "cells": [
  {
   "cell_type": "code",
   "execution_count": 3,
   "metadata": {},
   "outputs": [],
   "source": [
    "sentence = \"The tall guy Philip Frederics is the worst.\"\n",
    "target = \"Philip Frederics\""
   ]
  },
  {
   "cell_type": "code",
   "execution_count": null,
   "metadata": {},
   "outputs": [],
   "source": [
    "sentence = \"The tall guy Philip Frederics is the worst said Philip Frederics in an interview with Philip Frederics on tv.\"\n",
    "target = \"Philip Frederics\""
   ]
  },
  {
   "cell_type": "code",
   "execution_count": 4,
   "metadata": {},
   "outputs": [
    {
     "output_type": "execute_result",
     "data": {
      "text/plain": "['The tall guy ', ' is the worst.']"
     },
     "metadata": {},
     "execution_count": 4
    }
   ],
   "source": [
    "sentence.split(target)"
   ]
  },
  {
   "cell_type": "code",
   "execution_count": null,
   "metadata": {},
   "outputs": [],
   "source": []
  }
 ],
 "metadata": {
  "language_info": {
   "codemirror_mode": {
    "name": "ipython",
    "version": 3
   },
   "file_extension": ".py",
   "mimetype": "text/x-python",
   "name": "python",
   "nbconvert_exporter": "python",
   "pygments_lexer": "ipython3",
   "version": "3.6.9-final"
  },
  "orig_nbformat": 2,
  "kernelspec": {
   "name": "python36964bittmenvvenv9957929bd7764086af466f64b58cd316",
   "display_name": "Python 3.6.9 64-bit ('tm_env': venv)"
  }
 },
 "nbformat": 4,
 "nbformat_minor": 2
}