{
 "cells": [
  {
   "cell_type": "code",
   "execution_count": 1,
   "metadata": {},
   "outputs": [
    {
     "output_type": "stream",
     "name": "stdout",
     "text": "ABSA-PyTorch  extra_requirements.txt  models\t   papers\t submissions\ndata\t      figures\t\t      neuralcoref  resources.md  test.ipynb\nexperiments   install.sh\t      notes\t   src\t\t tm_env\n"
    }
   ],
   "source": [
    "!ls"
   ]
  },
  {
   "cell_type": "code",
   "execution_count": 2,
   "metadata": {},
   "outputs": [
    {
     "output_type": "error",
     "ename": "ModuleNotFoundError",
     "evalue": "No module named 'sentiment'",
     "traceback": [
      "\u001b[0;31m---------------------------------------------------------------------------\u001b[0m",
      "\u001b[0;31mModuleNotFoundError\u001b[0m                       Traceback (most recent call last)",
      "\u001b[0;32m<ipython-input-2-73076b7ae7cb>\u001b[0m in \u001b[0;36m<module>\u001b[0;34m\u001b[0m\n\u001b[0;32m----> 1\u001b[0;31m \u001b[0;32mfrom\u001b[0m \u001b[0msentiment\u001b[0m \u001b[0;32mimport\u001b[0m \u001b[0mtarget_based_sentiment\u001b[0m\u001b[0;34m\u001b[0m\u001b[0;34m\u001b[0m\u001b[0m\n\u001b[0m\u001b[1;32m      2\u001b[0m \u001b[0;34m\u001b[0m\u001b[0m\n\u001b[1;32m      3\u001b[0m \u001b[0;34m\u001b[0m\u001b[0m\n\u001b[1;32m      4\u001b[0m \u001b[0;32mfrom\u001b[0m \u001b[0mNamedEntityRecognition\u001b[0m \u001b[0;32mimport\u001b[0m \u001b[0;34m*\u001b[0m\u001b[0;34m\u001b[0m\u001b[0;34m\u001b[0m\u001b[0m\n\u001b[1;32m      5\u001b[0m \u001b[0;34m\u001b[0m\u001b[0m\n",
      "\u001b[0;31mModuleNotFoundError\u001b[0m: No module named 'sentiment'"
     ]
    }
   ],
   "source": [
    "from sentiment import target_based_sentiment\n",
    "\n",
    "\n",
    "from NamedEntityRecognition import *\n",
    "\n",
    "start_time = time.process_time()\n",
    "\n",
    "# df = pd.DataFrame({\n",
    "#     \"body\": [\"With all the havoc it's wreaking across the globe, the coronavirus outbreak is naturally having an impact on couples and their relationships.\",\"A tiger at New York's Bronx Zoo has tested positive for COVID-19, the institution said Sunday, and is believed to have contracted the virus from a caretaker who was asymptomatic at the time. The four-year-old Malayan tiger named Nadia along with her sister Azul, two Amur tigers and three African lio\"],\n",
    "#     \"publication_date\": [\"2020-04-05\",\"2020-04-05\"]\n",
    "# })\n",
    "\n",
    "df = pd.DataFrame({\n",
    "    \"body\": [\"Deepika has a dog. She loves him. The movie star has always been fond of animals\",\n",
    "    \"The short guy Donald Trump is the worst. He does not know how the world turns.\"],\n",
    "    \"publication_date\": [\"2020-04-05\",\"2020-04-05\"]\n",
    "})\n",
    "\n",
    "NER = NamedEntityRecognizer()\n",
    "\n",
    "df = NER.spacy_preprocessing(df, model_size=\"sm\") # model_size=\"lg\")\n",
    "\n",
    "df = df.drop(columns=[\"body\"]) # Drop some columns to make some space\n",
    "\n",
    "df = NER.dbpedia_ner(df, model_size=\"sm\") #model_size=\"lg\")\n",
    "# Cleanup df_pp by removing nlp\n",
    "df = df.drop(columns=[\"nlp\"])\n",
    "    \n",
    "df = NER.find_most_common_entities(df, \"nlp_resolved\", entity_type=\"Person\")  # entity \"OfficeHolder\" is quite nice, \"Person\" works as well\n",
    "\n",
    "df = NER.get_target_sentiments(df, model_size=\"sm\")\n",
    "\n",
    "\n",
    "print(df.head())\n",
    "\n"
   ]
  },
  {
   "cell_type": "code",
   "execution_count": null,
   "metadata": {},
   "outputs": [],
   "source": [
    "df = df[[\"publication_date\", \"most_common_1\", \"most_common_1_num\", \"sentiment\"]]\n",
    "df_most_common = NER.sum_period_most_common_entities(df)\n",
    "print(df_most_common)\n",
    "# df_most_common = NER.fill_entity_gaps(df_most_common)\n",
    "# df_most_common = NER.cum_sum_df(df_most_common)\n",
    "# df_most_common = NER.select_most_common_per_period(df_most_common)\n",
    "\n",
    "# df_most_common.to_csv(\"src/logs/df_most_common\"+str(datetime.now())+\".csv\")\n",
    "print(df_most_common)\n",
    "# NER.visualize(df_most_common, start_date, end_date)\n",
    "\n"
   ]
  },
  {
   "cell_type": "code",
   "execution_count": null,
   "metadata": {},
   "outputs": [],
   "source": [
    "elapsed_time = time.process_time() - start_time\n",
    "print(\"Elapsed time: \" + str(round(elapsed_time,2)) + \" seconds\")"
   ]
  }
 ],
 "metadata": {
  "language_info": {
   "codemirror_mode": {
    "name": "ipython",
    "version": 3
   },
   "file_extension": ".py",
   "mimetype": "text/x-python",
   "name": "python",
   "nbconvert_exporter": "python",
   "pygments_lexer": "ipython3",
   "version": "3.6.9-final"
  },
  "orig_nbformat": 2,
  "kernelspec": {
   "name": "python36964bittmenvvenv9957929bd7764086af466f64b58cd316",
   "display_name": "Python 3.6.9 64-bit ('tm_env': venv)"
  }
 },
 "nbformat": 4,
 "nbformat_minor": 2
}