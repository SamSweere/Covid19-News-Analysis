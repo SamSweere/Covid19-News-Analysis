{
 "cells": [
  {
   "cell_type": "code",
   "execution_count": 1,
   "metadata": {},
   "outputs": [],
   "source": [
    "import numpy as np\n",
    "import matplotlib.pyplot as plt"
   ]
  },
  {
   "cell_type": "code",
   "execution_count": null,
   "metadata": {},
   "outputs": [],
   "source": [
    "val_acc = [0.7192, 0.7159, 0.7563, 0.7453, 0.7400]\n",
    "val_f1 = [0.6604, 0.6478, 0.7270, 0.6955, 0.7074]"
   ]
  }
 ],
 "metadata": {
  "language_info": {
   "codemirror_mode": {
    "name": "ipython",
    "version": 3
   },
   "file_extension": ".py",
   "mimetype": "text/x-python",
   "name": "python",
   "nbconvert_exporter": "python",
   "pygments_lexer": "ipython3",
   "version": "3.6.9-final"
  },
  "orig_nbformat": 2,
  "kernelspec": {
   "name": "python36964bittmenvvenv9957929bd7764086af466f64b58cd316",
   "display_name": "Python 3.6.9 64-bit ('tm_env': venv)"
  }
 },
 "nbformat": 4,
 "nbformat_minor": 2
}